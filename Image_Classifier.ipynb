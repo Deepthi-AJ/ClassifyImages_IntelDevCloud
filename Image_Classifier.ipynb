{
 "cells": [
  {
   "cell_type": "markdown",
   "id": "fd991875-5f92-4da2-976a-f13956054e2e",
   "metadata": {},
   "source": [
    " # Number Guessing Game\n",
    "   - Refresh the basics of machine learning by creating a number guessing game. Here the algorithm is implemented to guess the      number the user is thinking of.\n",
    "   - This code implements a simple number guessing game where the computer randomly selects a number between 1 and 100.\n",
    "   - The user is prompted to guess the number.\n",
    "   - If the user's guess is too low, the program notifies them and asks for another guess.\n",
    "   - If the guess is too high, it does the same.\n",
    "   - If the user guesses correctly, a congratulatory message is displayed."
   ]
  },
  {
   "cell_type": "code",
   "execution_count": 2,
   "id": "fa59b5cb-931f-457d-a895-816d4037e36d",
   "metadata": {},
   "outputs": [
    {
     "name": "stdin",
     "output_type": "stream",
     "text": [
      "Type 'yes' if you want to guess a number yes\n",
      "Guess the number between 1 and 100:  22\n"
     ]
    },
    {
     "name": "stdout",
     "output_type": "stream",
     "text": [
      "Too low! Try again.\n"
     ]
    },
    {
     "name": "stdin",
     "output_type": "stream",
     "text": [
      "Type 'yes' if you want to guess a number no\n"
     ]
    },
    {
     "name": "stdout",
     "output_type": "stream",
     "text": [
      "Alright then, bye!\n"
     ]
    }
   ],
   "source": [
    "import random\n",
    "game = \"Play\"\n",
    "\n",
    "def guess_number():\n",
    "       number = random.randint(1, 100)\n",
    "       guess = int(input(\"Guess the number between 1 and 100: \"))\n",
    "       if guess < number:\n",
    "           print(\"Too low! Try again.\")\n",
    "       elif guess > number:\n",
    "           print(\"Too high! Try again.\")\n",
    "       else:\n",
    "           print(\"Congratulations! You guessed the correct number.\")\n",
    "\n",
    "while game == \"Play\":\n",
    "    Question = input(\"Type 'yes' if you want to guess a number\").lower()\n",
    "    if Question == \"yes\":        \n",
    "        guess_number()\n",
    "    else:\n",
    "        print(\"Alright then, bye!\")\n",
    "        game = \"Over\"\n"
   ]
  },
  {
   "cell_type": "markdown",
   "id": "8fb85f80-5ffc-478d-8d21-c748b32eaaf8",
   "metadata": {},
   "source": [
    "# Chatbot\n",
    "   - This is a simple chatbot built using Python. Here, we use the basic if-else statements to respond to user inputs, making      it an interactive project.\n",
    "   - This code creates a basic interactive chatbot.\n",
    "   - The chatbot greets the user and prompts them for input.\n",
    "   - It checks the user's input using if-else statements to determine the appropriate response.\n",
    "   - If the user says \"hello,\" the chatbot responds with a greeting. If the user asks how it is, the chatbot replies accordingly.\n",
    "   - If the input doesn't match the predefined responses, the chatbot asks the user to provide another question or input.\n"
   ]
  },
  {
   "cell_type": "code",
   "execution_count": 3,
   "id": "fb74dc89-ddc8-4447-93d0-3ad38d3545cd",
   "metadata": {},
   "outputs": [
    {
     "name": "stdin",
     "output_type": "stream",
     "text": [
      "Type 'yes' if you would like to ask anything else to the chatbot. yes\n"
     ]
    },
    {
     "name": "stdout",
     "output_type": "stream",
     "text": [
      "Chatbot: Hello! How can I assist you today?\n"
     ]
    },
    {
     "name": "stdin",
     "output_type": "stream",
     "text": [
      "You:  hello\n"
     ]
    },
    {
     "name": "stdout",
     "output_type": "stream",
     "text": [
      "Chatbot: Hi there!\n"
     ]
    },
    {
     "name": "stdin",
     "output_type": "stream",
     "text": [
      "Type 'yes' if you would like to ask anything else to the chatbot. hi there\n"
     ]
    },
    {
     "name": "stdout",
     "output_type": "stream",
     "text": [
      "Alright then, bye!\n"
     ]
    }
   ],
   "source": [
    " def chatbot():\n",
    "       print(\"Chatbot: Hello! How can I assist you today?\")\n",
    "       user_input = input(\"You: \")\n",
    "       if \"hello\" in user_input.lower():\n",
    "           print(\"Chatbot: Hi there!\")\n",
    "       elif \"how are you\" in user_input.lower():\n",
    "           print(\"Chatbot: I'm just a computer program, but I'm doing well! How about you?\")\n",
    "       else:\n",
    "           print(\"Chatbot: I'm not sure how to respond to that. Can you ask another question?\")\n",
    "Chat = \"True\"\n",
    "while Chat == \"True\":\n",
    "    Question = input(\"Type 'yes' if you would like to ask anything else to the chatbot.\").lower()\n",
    "    if Question == \"yes\":        \n",
    "        chatbot()\n",
    "    else:\n",
    "        print(\"Alright then, bye!\")\n",
    "        Chat = \"False\""
   ]
  },
  {
   "cell_type": "code",
   "execution_count": null,
   "id": "f009b594-72dd-4811-a94b-1c84f4807a14",
   "metadata": {},
   "outputs": [],
   "source": [
    "# Image Classifier\n",
    "   - Creating a simple image classifier is one of the basic examples of image recognition. Image Classifier's usually use pre-trained models like MobileNet or implemented basic neural networks using libraries like TensorFlow or PyTorch. This code demonstrates image classification using a pre-trained MobileNet model from TensorFlow and Keras.\n",
    "   - The `classify_image` function takes an image path as input. It loads the MobileNet model pre-trained on ImageNet data. The function loads and preprocesses the image, then predicts its contents using the model. The top three predictions with their associated probabilities are displayed."
   ]
  },
  {
   "cell_type": "markdown",
   "id": "a83ee5d6-3c97-43b0-a74e-3e5c6558b6e2",
   "metadata": {},
   "source": [
    "### To run a TensorFlow inference workload on both GPU and CPU by using Intel® AI Analytics Toolkit\n",
    "\n",
    "Use the MobileNet pretrained model from TensorFlow Keras. The tf.keras.applications.mobilenet.MobileNet function returns a Keras image classification model, optionally loaded with weights pre-trained on ImageNet.\n",
    "\n",
    "The class of efficient models called MobileNets are used for mobile and embedded vision applications. MobileNets are based on a streamlined architecture that uses depth-wise separable convolutions to build light weight deep neural networks.\n",
    "\n",
    "Image is taken from the Stanford Dogs dataset which contains images of 120 breeds of dogs from around the world. This dataset has been built using images and annotation from ImageNet for the task of fine-grained image categorization. Keras provides a function to perform this preparation for individual photos via the preprocess_input() function."
   ]
  },
  {
   "cell_type": "code",
   "execution_count": 9,
   "id": "5fecb36d-2bc4-44bc-bbe4-5d45fe16c204",
   "metadata": {},
   "outputs": [
    {
     "name": "stdout",
     "output_type": "stream",
     "text": [
      "Defaulting to user installation because normal site-packages is not writeable\n",
      "Requirement already satisfied: intel-extension-for-tensorflow[xpu] in /home/u204575/.local/lib/python3.9/site-packages (2.13.0.1)\n",
      "Requirement already satisfied: grpcio>=1.8.6 in /home/u204575/.local/lib/python3.9/site-packages (from intel-extension-for-tensorflow[xpu]) (1.59.0)\n",
      "Requirement already satisfied: wheel in /glob/development-tools/versions/oneapi/2023.2.0.1/oneapi/intelpython/python3.9/lib/python3.9/site-packages (from intel-extension-for-tensorflow[xpu]) (0.40.0)\n",
      "Requirement already satisfied: tensorflow==2.13 in /home/u204575/.local/lib/python3.9/site-packages (from intel-extension-for-tensorflow[xpu]) (2.13.0)\n",
      "Requirement already satisfied: numpy<1.24 in /home/u204575/.local/lib/python3.9/site-packages (from intel-extension-for-tensorflow[xpu]) (1.23.5)\n",
      "Requirement already satisfied: intel-extension-for-tensorflow-lib==2.13.0.1.2 in /home/u204575/.local/lib/python3.9/site-packages (from intel-extension-for-tensorflow[xpu]) (2.13.0.1.2)\n",
      "Requirement already satisfied: absl-py>=1.0.0 in /home/u204575/.local/lib/python3.9/site-packages (from tensorflow==2.13->intel-extension-for-tensorflow[xpu]) (2.0.0)\n",
      "Requirement already satisfied: astunparse>=1.6.0 in /home/u204575/.local/lib/python3.9/site-packages (from tensorflow==2.13->intel-extension-for-tensorflow[xpu]) (1.6.3)\n",
      "Requirement already satisfied: flatbuffers>=23.1.21 in /home/u204575/.local/lib/python3.9/site-packages (from tensorflow==2.13->intel-extension-for-tensorflow[xpu]) (23.5.26)\n",
      "Requirement already satisfied: gast<=0.4.0,>=0.2.1 in /home/u204575/.local/lib/python3.9/site-packages (from tensorflow==2.13->intel-extension-for-tensorflow[xpu]) (0.4.0)\n",
      "Requirement already satisfied: google-pasta>=0.1.1 in /home/u204575/.local/lib/python3.9/site-packages (from tensorflow==2.13->intel-extension-for-tensorflow[xpu]) (0.2.0)\n",
      "Requirement already satisfied: h5py>=2.9.0 in /home/u204575/.local/lib/python3.9/site-packages (from tensorflow==2.13->intel-extension-for-tensorflow[xpu]) (3.9.0)\n",
      "Requirement already satisfied: keras<2.14,>=2.13.1 in /home/u204575/.local/lib/python3.9/site-packages (from tensorflow==2.13->intel-extension-for-tensorflow[xpu]) (2.13.1)\n",
      "Requirement already satisfied: libclang>=13.0.0 in /home/u204575/.local/lib/python3.9/site-packages (from tensorflow==2.13->intel-extension-for-tensorflow[xpu]) (16.0.6)\n",
      "Requirement already satisfied: opt-einsum>=2.3.2 in /home/u204575/.local/lib/python3.9/site-packages (from tensorflow==2.13->intel-extension-for-tensorflow[xpu]) (3.3.0)\n",
      "Requirement already satisfied: packaging in /glob/development-tools/versions/oneapi/2023.2.0.1/oneapi/intelpython/python3.9/lib/python3.9/site-packages (from tensorflow==2.13->intel-extension-for-tensorflow[xpu]) (23.1)\n",
      "Requirement already satisfied: protobuf!=4.21.0,!=4.21.1,!=4.21.2,!=4.21.3,!=4.21.4,!=4.21.5,<5.0.0dev,>=3.20.3 in /home/u204575/.local/lib/python3.9/site-packages (from tensorflow==2.13->intel-extension-for-tensorflow[xpu]) (4.24.4)\n",
      "Requirement already satisfied: setuptools in /glob/development-tools/versions/oneapi/2023.2.0.1/oneapi/intelpython/python3.9/lib/python3.9/site-packages (from tensorflow==2.13->intel-extension-for-tensorflow[xpu]) (67.7.2)\n",
      "Requirement already satisfied: six>=1.12.0 in /glob/development-tools/versions/oneapi/2023.2.0.1/oneapi/intelpython/python3.9/lib/python3.9/site-packages (from tensorflow==2.13->intel-extension-for-tensorflow[xpu]) (1.16.0)\n",
      "Requirement already satisfied: tensorboard<2.14,>=2.13 in /home/u204575/.local/lib/python3.9/site-packages (from tensorflow==2.13->intel-extension-for-tensorflow[xpu]) (2.13.0)\n",
      "Requirement already satisfied: tensorflow-estimator<2.14,>=2.13.0 in /home/u204575/.local/lib/python3.9/site-packages (from tensorflow==2.13->intel-extension-for-tensorflow[xpu]) (2.13.0)\n",
      "Requirement already satisfied: termcolor>=1.1.0 in /home/u204575/.local/lib/python3.9/site-packages (from tensorflow==2.13->intel-extension-for-tensorflow[xpu]) (2.3.0)\n",
      "Requirement already satisfied: typing-extensions<4.6.0,>=3.6.6 in /home/u204575/.local/lib/python3.9/site-packages (from tensorflow==2.13->intel-extension-for-tensorflow[xpu]) (4.5.0)\n",
      "Requirement already satisfied: wrapt>=1.11.0 in /home/u204575/.local/lib/python3.9/site-packages (from tensorflow==2.13->intel-extension-for-tensorflow[xpu]) (1.15.0)\n",
      "Requirement already satisfied: tensorflow-io-gcs-filesystem>=0.23.1 in /home/u204575/.local/lib/python3.9/site-packages (from tensorflow==2.13->intel-extension-for-tensorflow[xpu]) (0.34.0)\n",
      "Requirement already satisfied: google-auth<3,>=1.6.3 in /home/u204575/.local/lib/python3.9/site-packages (from tensorboard<2.14,>=2.13->tensorflow==2.13->intel-extension-for-tensorflow[xpu]) (2.23.2)\n",
      "Requirement already satisfied: google-auth-oauthlib<1.1,>=0.5 in /home/u204575/.local/lib/python3.9/site-packages (from tensorboard<2.14,>=2.13->tensorflow==2.13->intel-extension-for-tensorflow[xpu]) (1.0.0)\n",
      "Requirement already satisfied: markdown>=2.6.8 in /home/u204575/.local/lib/python3.9/site-packages (from tensorboard<2.14,>=2.13->tensorflow==2.13->intel-extension-for-tensorflow[xpu]) (3.4.4)\n",
      "Requirement already satisfied: requests<3,>=2.21.0 in /glob/development-tools/versions/oneapi/2023.2.0.1/oneapi/intelpython/python3.9/lib/python3.9/site-packages (from tensorboard<2.14,>=2.13->tensorflow==2.13->intel-extension-for-tensorflow[xpu]) (2.31.0)\n",
      "Requirement already satisfied: tensorboard-data-server<0.8.0,>=0.7.0 in /home/u204575/.local/lib/python3.9/site-packages (from tensorboard<2.14,>=2.13->tensorflow==2.13->intel-extension-for-tensorflow[xpu]) (0.7.1)\n",
      "Requirement already satisfied: werkzeug>=1.0.1 in /home/u204575/.local/lib/python3.9/site-packages (from tensorboard<2.14,>=2.13->tensorflow==2.13->intel-extension-for-tensorflow[xpu]) (3.0.0)\n",
      "Requirement already satisfied: cachetools<6.0,>=2.0.0 in /home/u204575/.local/lib/python3.9/site-packages (from google-auth<3,>=1.6.3->tensorboard<2.14,>=2.13->tensorflow==2.13->intel-extension-for-tensorflow[xpu]) (5.3.1)\n",
      "Requirement already satisfied: pyasn1-modules>=0.2.1 in /home/u204575/.local/lib/python3.9/site-packages (from google-auth<3,>=1.6.3->tensorboard<2.14,>=2.13->tensorflow==2.13->intel-extension-for-tensorflow[xpu]) (0.3.0)\n",
      "Requirement already satisfied: rsa<5,>=3.1.4 in /home/u204575/.local/lib/python3.9/site-packages (from google-auth<3,>=1.6.3->tensorboard<2.14,>=2.13->tensorflow==2.13->intel-extension-for-tensorflow[xpu]) (4.9)\n",
      "Requirement already satisfied: requests-oauthlib>=0.7.0 in /home/u204575/.local/lib/python3.9/site-packages (from google-auth-oauthlib<1.1,>=0.5->tensorboard<2.14,>=2.13->tensorflow==2.13->intel-extension-for-tensorflow[xpu]) (1.3.1)\n",
      "Requirement already satisfied: importlib-metadata>=4.4 in /glob/development-tools/versions/oneapi/2023.2.0.1/oneapi/intelpython/python3.9/lib/python3.9/site-packages (from markdown>=2.6.8->tensorboard<2.14,>=2.13->tensorflow==2.13->intel-extension-for-tensorflow[xpu]) (6.8.0)\n",
      "Requirement already satisfied: charset-normalizer<4,>=2 in /glob/development-tools/versions/oneapi/2023.2.0.1/oneapi/intelpython/python3.9/lib/python3.9/site-packages (from requests<3,>=2.21.0->tensorboard<2.14,>=2.13->tensorflow==2.13->intel-extension-for-tensorflow[xpu]) (3.1.0)\n",
      "Requirement already satisfied: idna<4,>=2.5 in /glob/development-tools/versions/oneapi/2023.2.0.1/oneapi/intelpython/python3.9/lib/python3.9/site-packages (from requests<3,>=2.21.0->tensorboard<2.14,>=2.13->tensorflow==2.13->intel-extension-for-tensorflow[xpu]) (3.4)\n",
      "Requirement already satisfied: urllib3<3,>=1.21.1 in /glob/development-tools/versions/oneapi/2023.2.0.1/oneapi/intelpython/python3.9/lib/python3.9/site-packages (from requests<3,>=2.21.0->tensorboard<2.14,>=2.13->tensorflow==2.13->intel-extension-for-tensorflow[xpu]) (2.0.3)\n",
      "Requirement already satisfied: certifi>=2017.4.17 in /glob/development-tools/versions/oneapi/2023.2.0.1/oneapi/intelpython/python3.9/lib/python3.9/site-packages (from requests<3,>=2.21.0->tensorboard<2.14,>=2.13->tensorflow==2.13->intel-extension-for-tensorflow[xpu]) (2023.5.7)\n",
      "Requirement already satisfied: MarkupSafe>=2.1.1 in /home/u204575/.local/lib/python3.9/site-packages (from werkzeug>=1.0.1->tensorboard<2.14,>=2.13->tensorflow==2.13->intel-extension-for-tensorflow[xpu]) (2.1.3)\n",
      "Requirement already satisfied: zipp>=0.5 in /glob/development-tools/versions/oneapi/2023.2.0.1/oneapi/intelpython/python3.9/lib/python3.9/site-packages (from importlib-metadata>=4.4->markdown>=2.6.8->tensorboard<2.14,>=2.13->tensorflow==2.13->intel-extension-for-tensorflow[xpu]) (3.16.2)\n",
      "Requirement already satisfied: pyasn1<0.6.0,>=0.4.6 in /home/u204575/.local/lib/python3.9/site-packages (from pyasn1-modules>=0.2.1->google-auth<3,>=1.6.3->tensorboard<2.14,>=2.13->tensorflow==2.13->intel-extension-for-tensorflow[xpu]) (0.5.0)\n",
      "Requirement already satisfied: oauthlib>=3.0.0 in /home/u204575/.local/lib/python3.9/site-packages (from requests-oauthlib>=0.7.0->google-auth-oauthlib<1.1,>=0.5->tensorboard<2.14,>=2.13->tensorflow==2.13->intel-extension-for-tensorflow[xpu]) (3.2.2)\n",
      "Defaulting to user installation because normal site-packages is not writeable\n",
      "Collecting intel-numpy\n",
      "  Downloading intel_numpy-1.21.4-cp39-cp39-manylinux2014_x86_64.whl (6.6 MB)\n",
      "\u001b[2K     \u001b[90m━━━━━━━━━━━━━━━━━━━━━━━━━━━━━━━━━━━━━━━━\u001b[0m \u001b[32m6.6/6.6 MB\u001b[0m \u001b[31m3.4 MB/s\u001b[0m eta \u001b[36m0:00:00\u001b[0m00:01\u001b[0m00:01\u001b[0m\n",
      "\u001b[?25hCollecting dpcpp_cpp_rt (from intel-numpy)\n",
      "  Downloading dpcpp_cpp_rt-2023.2.0-py2.py3-none-manylinux1_x86_64.whl (4.0 MB)\n",
      "\u001b[2K     \u001b[90m━━━━━━━━━━━━━━━━━━━━━━━━━━━━━━━━━━━━━━━━\u001b[0m \u001b[32m4.0/4.0 MB\u001b[0m \u001b[31m3.8 MB/s\u001b[0m eta \u001b[36m0:00:00\u001b[0m00:01\u001b[0m00:01\u001b[0m\n",
      "\u001b[?25hCollecting mkl (from intel-numpy)\n",
      "  Downloading mkl-2023.2.0-py2.py3-none-manylinux1_x86_64.whl (258.0 MB)\n",
      "\u001b[2K     \u001b[90m━━━━━━━━━━━━━━━━━━━━━━━━━━━━━━━━━━━━━━━\u001b[0m \u001b[32m258.0/258.0 MB\u001b[0m \u001b[31m1.5 MB/s\u001b[0m eta \u001b[36m0:00:00\u001b[0m00:01\u001b[0m00:02\u001b[0m\n",
      "\u001b[?25hCollecting tbb4py (from intel-numpy)\n",
      "  Downloading tbb4py-2021.10.0-py39-none-manylinux1_x86_64.whl (324 kB)\n",
      "\u001b[2K     \u001b[90m━━━━━━━━━━━━━━━━━━━━━━━━━━━━━━━━━━━━━━━\u001b[0m \u001b[32m324.3/324.3 kB\u001b[0m \u001b[31m3.4 MB/s\u001b[0m eta \u001b[36m0:00:00\u001b[0m00:01\u001b[0m00:01\u001b[0m\n",
      "\u001b[?25hRequirement already satisfied: mkl-service in /glob/development-tools/versions/oneapi/2023.2.0.1/oneapi/intelpython/python3.9/lib/python3.9/site-packages (from intel-numpy) (2.4.0)\n",
      "Collecting intel-opencl-rt==2023.2.0 (from dpcpp_cpp_rt->intel-numpy)\n",
      "  Downloading intel_opencl_rt-2023.2.0-py2.py3-none-manylinux1_x86_64.whl (233.5 MB)\n",
      "\u001b[2K     \u001b[90m━━━━━━━━━━━━━━━━━━━━━━━━━━━━━━━━━━━━━━━\u001b[0m \u001b[32m233.5/233.5 MB\u001b[0m \u001b[31m1.7 MB/s\u001b[0m eta \u001b[36m0:00:00\u001b[0m00:01\u001b[0m00:02\u001b[0m\n",
      "\u001b[?25hCollecting intel-openmp==2023.2.0 (from dpcpp_cpp_rt->intel-numpy)\n",
      "  Downloading intel_openmp-2023.2.0-py2.py3-none-manylinux1_x86_64.whl (20.2 MB)\n",
      "\u001b[2K     \u001b[90m━━━━━━━━━━━━━━━━━━━━━━━━━━━━━━━━━━━━━━━━\u001b[0m \u001b[32m20.2/20.2 MB\u001b[0m \u001b[31m3.5 MB/s\u001b[0m eta \u001b[36m0:00:00\u001b[0m00:01\u001b[0m00:01\u001b[0m\n",
      "\u001b[?25hCollecting intel-cmplr-lib-rt==2023.2.0 (from dpcpp_cpp_rt->intel-numpy)\n",
      "  Downloading intel_cmplr_lib_rt-2023.2.0-py2.py3-none-manylinux1_x86_64.whl (44.9 MB)\n",
      "\u001b[2K     \u001b[90m━━━━━━━━━━━━━━━━━━━━━━━━━━━━━━━━━━━━━━━━\u001b[0m \u001b[32m44.9/44.9 MB\u001b[0m \u001b[31m3.0 MB/s\u001b[0m eta \u001b[36m0:00:00\u001b[0m00:01\u001b[0m00:01\u001b[0m\n",
      "\u001b[?25hCollecting intel-cmplr-lic-rt==2023.2.0 (from dpcpp_cpp_rt->intel-numpy)\n",
      "  Downloading intel_cmplr_lic_rt-2023.2.0-py2.py3-none-manylinux1_x86_64.whl (19 kB)\n",
      "Requirement already satisfied: tbb==2021.* in /home/u204575/.local/lib/python3.9/site-packages (from intel-opencl-rt==2023.2.0->dpcpp_cpp_rt->intel-numpy) (2021.10.0)\n",
      "Installing collected packages: intel-openmp, intel-cmplr-lic-rt, intel-cmplr-lib-rt, tbb4py, mkl, intel-opencl-rt, dpcpp_cpp_rt, intel-numpy\n",
      "Successfully installed dpcpp_cpp_rt-2023.2.0 intel-cmplr-lib-rt-2023.2.0 intel-cmplr-lic-rt-2023.2.0 intel-numpy-1.21.4 intel-opencl-rt-2023.2.0 intel-openmp-2023.2.0 mkl-2023.2.0 tbb4py-2021.10.0\n"
     ]
    }
   ],
   "source": [
    "!pip install --upgrade intel-extension-for-tensorflow[xpu]\n",
    "!pip install intel-numpy"
   ]
  },
  {
   "cell_type": "code",
   "execution_count": 10,
   "id": "9a6554df-c56b-4b6b-b153-a2e455b677ce",
   "metadata": {},
   "outputs": [
    {
     "name": "stderr",
     "output_type": "stream",
     "text": [
      "2023-11-08 07:37:50.172424: I tensorflow/core/grappler/optimizers/custom_graph_optimizer_registry.cc:114] Plugin optimizer for device_type CPU is enabled.\n",
      "2023-11-08 07:37:50.292245: I tensorflow/core/grappler/optimizers/custom_graph_optimizer_registry.cc:114] Plugin optimizer for device_type CPU is enabled.\n",
      "2023-11-08 07:37:50.321111: I tensorflow/core/grappler/optimizers/custom_graph_optimizer_registry.cc:114] Plugin optimizer for device_type CPU is enabled.\n",
      "2023-11-08 07:37:50.713517: I tensorflow/core/grappler/optimizers/custom_graph_optimizer_registry.cc:114] Plugin optimizer for device_type CPU is enabled.\n"
     ]
    },
    {
     "name": "stdout",
     "output_type": "stream",
     "text": [
      "1/1 [==============================] - 2s 2s/step\n",
      "Downloading data from https://storage.googleapis.com/download.tensorflow.org/data/imagenet_class_index.json\n",
      "35363/35363 [==============================] - 0s 2us/step\n",
      "Predicted: [('n02102318', 'cocker_spaniel', 0.6481377), ('n02099601', 'golden_retriever', 0.25268334), ('n02099712', 'Labrador_retriever', 0.06409542)]\n"
     ]
    }
   ],
   "source": [
    "import numpy as np\n",
    "import tensorflow as tf\n",
    "from tensorflow import keras\n",
    "from tensorflow.keras.preprocessing import image\n",
    "from tensorflow.keras.applications.mobilenet import MobileNet, preprocess_input, decode_predictions\n",
    "\n",
    "def classify_image(image_path):\n",
    "       model = MobileNet(weights='imagenet')\n",
    "       img = image.load_img(image_path, target_size=(224, 224))\n",
    "       x = image.img_to_array(img)\n",
    "       x = preprocess_input(x)\n",
    "       x = np.expand_dims(x, axis=0)\n",
    "       predictions = model.predict(x)\n",
    "       print('Predicted:', decode_predictions(predictions, top=3)[0])\n",
    "\n",
    "image_path = 'n02099601_109.jpg'\n",
    "classify_image(image_path)"
   ]
  },
  {
   "cell_type": "code",
   "execution_count": 11,
   "id": "a080c9e7-6499-4953-9897-b748bfb2dad8",
   "metadata": {},
   "outputs": [
    {
     "name": "stderr",
     "output_type": "stream",
     "text": [
      "2023-11-08 07:39:41.025415: I tensorflow/core/grappler/optimizers/custom_graph_optimizer_registry.cc:114] Plugin optimizer for device_type CPU is enabled.\n",
      "2023-11-08 07:39:41.029116: I tensorflow/core/grappler/optimizers/custom_graph_optimizer_registry.cc:114] Plugin optimizer for device_type CPU is enabled.\n",
      "2023-11-08 07:39:41.034490: I tensorflow/core/grappler/optimizers/custom_graph_optimizer_registry.cc:114] Plugin optimizer for device_type CPU is enabled.\n",
      "2023-11-08 07:39:41.223269: I tensorflow/core/grappler/optimizers/custom_graph_optimizer_registry.cc:114] Plugin optimizer for device_type CPU is enabled.\n"
     ]
    },
    {
     "name": "stdout",
     "output_type": "stream",
     "text": [
      "1/1 [==============================] - 0s 366ms/step\n",
      "Predicted: [('n02085620', 'Chihuahua', 0.9864254), ('n02113978', 'Mexican_hairless', 0.008050332), ('n02107312', 'miniature_pinscher', 0.0025531536)]\n"
     ]
    }
   ],
   "source": [
    "image_path2 = 'n02085620_326.jpg'\n",
    "classify_image(image_path2)"
   ]
  },
  {
   "cell_type": "code",
   "execution_count": null,
   "id": "e1b9cc4e-8468-4f01-bdda-bf41a3ec7da1",
   "metadata": {},
   "outputs": [],
   "source": [
    "image_path3 = 'n02085782_186.jpg'\n"
   ]
  }
 ],
 "metadata": {
  "kernelspec": {
   "display_name": "PyTorch (AI kit)",
   "language": "python",
   "name": "c009-intel_distribution_of_python_3_oneapi-beta05-pytorch"
  },
  "language_info": {
   "codemirror_mode": {
    "name": "ipython",
    "version": 3
   },
   "file_extension": ".py",
   "mimetype": "text/x-python",
   "name": "python",
   "nbconvert_exporter": "python",
   "pygments_lexer": "ipython3",
   "version": "3.9.16"
  }
 },
 "nbformat": 4,
 "nbformat_minor": 5
}
